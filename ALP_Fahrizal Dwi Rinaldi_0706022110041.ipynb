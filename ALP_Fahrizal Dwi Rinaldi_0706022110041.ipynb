{
 "cells": [
  {
   "cell_type": "markdown",
   "metadata": {},
   "source": [
    "# ALP - Data Mining\n",
    "Nama : Fahrizal Dwi Rinaldi\n",
    "\n",
    "NIM : 0706022110041"
   ]
  },
  {
   "cell_type": "markdown",
   "metadata": {},
   "source": [
    "### Import Library"
   ]
  },
  {
   "cell_type": "code",
   "execution_count": 3,
   "metadata": {},
   "outputs": [],
   "source": [
    "import numpy as np\n",
    "import seaborn as sns\n",
    "import pandas as pd\n",
    "import matplotlib.pyplot as plt\n",
    "from sklearn.model_selection import train_test_split\n",
    "from sklearn.linear_model import LogisticRegression\n",
    "from sklearn.metrics import confusion_matrix, accuracy_score\n",
    "from sklearn.linear_model import LinearRegression\n",
    "from sklearn.metrics import mean_squared_error\n",
    "from sklearn.neighbors import KNeighborsClassifier\n",
    "from sklearn.cluster import KMeans\n",
    "from sklearn.preprocessing import StandardScaler\n",
    "from sklearn.preprocessing import LabelEncoder\n",
    "from sklearn.metrics import silhouette_score\n",
    "from sklearn.naive_bayes import GaussianNB"
   ]
  },
  {
   "cell_type": "markdown",
   "metadata": {},
   "source": [
    "### Load Dataset"
   ]
  },
  {
   "cell_type": "code",
   "execution_count": 4,
   "metadata": {},
   "outputs": [
    {
     "data": {
      "text/html": [
       "<div>\n",
       "<style scoped>\n",
       "    .dataframe tbody tr th:only-of-type {\n",
       "        vertical-align: middle;\n",
       "    }\n",
       "\n",
       "    .dataframe tbody tr th {\n",
       "        vertical-align: top;\n",
       "    }\n",
       "\n",
       "    .dataframe thead th {\n",
       "        text-align: right;\n",
       "    }\n",
       "</style>\n",
       "<table border=\"1\" class=\"dataframe\">\n",
       "  <thead>\n",
       "    <tr style=\"text-align: right;\">\n",
       "      <th></th>\n",
       "      <th>Marital status</th>\n",
       "      <th>Application mode</th>\n",
       "      <th>Application order</th>\n",
       "      <th>Course</th>\n",
       "      <th>Daytime/evening attendance\\t</th>\n",
       "      <th>Previous qualification</th>\n",
       "      <th>Previous qualification (grade)</th>\n",
       "      <th>Nacionality</th>\n",
       "      <th>Mother's qualification</th>\n",
       "      <th>Father's qualification</th>\n",
       "      <th>...</th>\n",
       "      <th>Curricular units 2nd sem (credited)</th>\n",
       "      <th>Curricular units 2nd sem (enrolled)</th>\n",
       "      <th>Curricular units 2nd sem (evaluations)</th>\n",
       "      <th>Curricular units 2nd sem (approved)</th>\n",
       "      <th>Curricular units 2nd sem (grade)</th>\n",
       "      <th>Curricular units 2nd sem (without evaluations)</th>\n",
       "      <th>Unemployment rate</th>\n",
       "      <th>Inflation rate</th>\n",
       "      <th>GDP</th>\n",
       "      <th>Target</th>\n",
       "    </tr>\n",
       "  </thead>\n",
       "  <tbody>\n",
       "    <tr>\n",
       "      <th>3549</th>\n",
       "      <td>1</td>\n",
       "      <td>1</td>\n",
       "      <td>1</td>\n",
       "      <td>9500</td>\n",
       "      <td>1</td>\n",
       "      <td>1</td>\n",
       "      <td>127.0</td>\n",
       "      <td>1</td>\n",
       "      <td>2</td>\n",
       "      <td>19</td>\n",
       "      <td>...</td>\n",
       "      <td>0</td>\n",
       "      <td>7</td>\n",
       "      <td>7</td>\n",
       "      <td>6</td>\n",
       "      <td>13.483333</td>\n",
       "      <td>0</td>\n",
       "      <td>7.6</td>\n",
       "      <td>2.6</td>\n",
       "      <td>0.32</td>\n",
       "      <td>Graduate</td>\n",
       "    </tr>\n",
       "    <tr>\n",
       "      <th>4029</th>\n",
       "      <td>4</td>\n",
       "      <td>7</td>\n",
       "      <td>1</td>\n",
       "      <td>9500</td>\n",
       "      <td>1</td>\n",
       "      <td>3</td>\n",
       "      <td>130.0</td>\n",
       "      <td>1</td>\n",
       "      <td>3</td>\n",
       "      <td>19</td>\n",
       "      <td>...</td>\n",
       "      <td>0</td>\n",
       "      <td>7</td>\n",
       "      <td>7</td>\n",
       "      <td>0</td>\n",
       "      <td>0.000000</td>\n",
       "      <td>0</td>\n",
       "      <td>16.2</td>\n",
       "      <td>0.3</td>\n",
       "      <td>-0.92</td>\n",
       "      <td>Dropout</td>\n",
       "    </tr>\n",
       "    <tr>\n",
       "      <th>2647</th>\n",
       "      <td>1</td>\n",
       "      <td>44</td>\n",
       "      <td>1</td>\n",
       "      <td>9003</td>\n",
       "      <td>1</td>\n",
       "      <td>39</td>\n",
       "      <td>130.0</td>\n",
       "      <td>1</td>\n",
       "      <td>38</td>\n",
       "      <td>38</td>\n",
       "      <td>...</td>\n",
       "      <td>0</td>\n",
       "      <td>6</td>\n",
       "      <td>15</td>\n",
       "      <td>2</td>\n",
       "      <td>12.000000</td>\n",
       "      <td>0</td>\n",
       "      <td>16.2</td>\n",
       "      <td>0.3</td>\n",
       "      <td>-0.92</td>\n",
       "      <td>Dropout</td>\n",
       "    </tr>\n",
       "    <tr>\n",
       "      <th>3493</th>\n",
       "      <td>1</td>\n",
       "      <td>7</td>\n",
       "      <td>1</td>\n",
       "      <td>9119</td>\n",
       "      <td>1</td>\n",
       "      <td>3</td>\n",
       "      <td>130.0</td>\n",
       "      <td>1</td>\n",
       "      <td>37</td>\n",
       "      <td>37</td>\n",
       "      <td>...</td>\n",
       "      <td>0</td>\n",
       "      <td>5</td>\n",
       "      <td>5</td>\n",
       "      <td>0</td>\n",
       "      <td>0.000000</td>\n",
       "      <td>0</td>\n",
       "      <td>12.7</td>\n",
       "      <td>3.7</td>\n",
       "      <td>-1.70</td>\n",
       "      <td>Dropout</td>\n",
       "    </tr>\n",
       "    <tr>\n",
       "      <th>2006</th>\n",
       "      <td>2</td>\n",
       "      <td>39</td>\n",
       "      <td>1</td>\n",
       "      <td>8014</td>\n",
       "      <td>0</td>\n",
       "      <td>1</td>\n",
       "      <td>146.0</td>\n",
       "      <td>1</td>\n",
       "      <td>37</td>\n",
       "      <td>37</td>\n",
       "      <td>...</td>\n",
       "      <td>0</td>\n",
       "      <td>6</td>\n",
       "      <td>6</td>\n",
       "      <td>6</td>\n",
       "      <td>14.166667</td>\n",
       "      <td>0</td>\n",
       "      <td>10.8</td>\n",
       "      <td>1.4</td>\n",
       "      <td>1.74</td>\n",
       "      <td>Graduate</td>\n",
       "    </tr>\n",
       "    <tr>\n",
       "      <th>1510</th>\n",
       "      <td>1</td>\n",
       "      <td>17</td>\n",
       "      <td>1</td>\n",
       "      <td>9254</td>\n",
       "      <td>1</td>\n",
       "      <td>1</td>\n",
       "      <td>127.0</td>\n",
       "      <td>1</td>\n",
       "      <td>1</td>\n",
       "      <td>1</td>\n",
       "      <td>...</td>\n",
       "      <td>0</td>\n",
       "      <td>6</td>\n",
       "      <td>0</td>\n",
       "      <td>0</td>\n",
       "      <td>0.000000</td>\n",
       "      <td>0</td>\n",
       "      <td>12.4</td>\n",
       "      <td>0.5</td>\n",
       "      <td>1.79</td>\n",
       "      <td>Dropout</td>\n",
       "    </tr>\n",
       "    <tr>\n",
       "      <th>818</th>\n",
       "      <td>1</td>\n",
       "      <td>17</td>\n",
       "      <td>2</td>\n",
       "      <td>9500</td>\n",
       "      <td>1</td>\n",
       "      <td>1</td>\n",
       "      <td>132.0</td>\n",
       "      <td>1</td>\n",
       "      <td>19</td>\n",
       "      <td>37</td>\n",
       "      <td>...</td>\n",
       "      <td>0</td>\n",
       "      <td>8</td>\n",
       "      <td>10</td>\n",
       "      <td>7</td>\n",
       "      <td>13.164286</td>\n",
       "      <td>0</td>\n",
       "      <td>11.1</td>\n",
       "      <td>0.6</td>\n",
       "      <td>2.02</td>\n",
       "      <td>Enrolled</td>\n",
       "    </tr>\n",
       "    <tr>\n",
       "      <th>1085</th>\n",
       "      <td>1</td>\n",
       "      <td>17</td>\n",
       "      <td>2</td>\n",
       "      <td>9130</td>\n",
       "      <td>1</td>\n",
       "      <td>1</td>\n",
       "      <td>127.0</td>\n",
       "      <td>1</td>\n",
       "      <td>3</td>\n",
       "      <td>1</td>\n",
       "      <td>...</td>\n",
       "      <td>0</td>\n",
       "      <td>6</td>\n",
       "      <td>0</td>\n",
       "      <td>0</td>\n",
       "      <td>0.000000</td>\n",
       "      <td>0</td>\n",
       "      <td>15.5</td>\n",
       "      <td>2.8</td>\n",
       "      <td>-4.06</td>\n",
       "      <td>Dropout</td>\n",
       "    </tr>\n",
       "    <tr>\n",
       "      <th>4350</th>\n",
       "      <td>1</td>\n",
       "      <td>44</td>\n",
       "      <td>1</td>\n",
       "      <td>9085</td>\n",
       "      <td>1</td>\n",
       "      <td>39</td>\n",
       "      <td>140.0</td>\n",
       "      <td>1</td>\n",
       "      <td>3</td>\n",
       "      <td>1</td>\n",
       "      <td>...</td>\n",
       "      <td>1</td>\n",
       "      <td>6</td>\n",
       "      <td>17</td>\n",
       "      <td>5</td>\n",
       "      <td>11.857143</td>\n",
       "      <td>0</td>\n",
       "      <td>12.4</td>\n",
       "      <td>0.5</td>\n",
       "      <td>1.79</td>\n",
       "      <td>Graduate</td>\n",
       "    </tr>\n",
       "    <tr>\n",
       "      <th>2304</th>\n",
       "      <td>1</td>\n",
       "      <td>17</td>\n",
       "      <td>1</td>\n",
       "      <td>9147</td>\n",
       "      <td>1</td>\n",
       "      <td>1</td>\n",
       "      <td>133.1</td>\n",
       "      <td>1</td>\n",
       "      <td>1</td>\n",
       "      <td>19</td>\n",
       "      <td>...</td>\n",
       "      <td>0</td>\n",
       "      <td>5</td>\n",
       "      <td>5</td>\n",
       "      <td>0</td>\n",
       "      <td>0.000000</td>\n",
       "      <td>0</td>\n",
       "      <td>11.1</td>\n",
       "      <td>0.6</td>\n",
       "      <td>2.02</td>\n",
       "      <td>Dropout</td>\n",
       "    </tr>\n",
       "  </tbody>\n",
       "</table>\n",
       "<p>10 rows × 37 columns</p>\n",
       "</div>"
      ],
      "text/plain": [
       "      Marital status  Application mode  Application order  Course  \\\n",
       "3549               1                 1                  1    9500   \n",
       "4029               4                 7                  1    9500   \n",
       "2647               1                44                  1    9003   \n",
       "3493               1                 7                  1    9119   \n",
       "2006               2                39                  1    8014   \n",
       "1510               1                17                  1    9254   \n",
       "818                1                17                  2    9500   \n",
       "1085               1                17                  2    9130   \n",
       "4350               1                44                  1    9085   \n",
       "2304               1                17                  1    9147   \n",
       "\n",
       "      Daytime/evening attendance\\t  Previous qualification  \\\n",
       "3549                             1                       1   \n",
       "4029                             1                       3   \n",
       "2647                             1                      39   \n",
       "3493                             1                       3   \n",
       "2006                             0                       1   \n",
       "1510                             1                       1   \n",
       "818                              1                       1   \n",
       "1085                             1                       1   \n",
       "4350                             1                      39   \n",
       "2304                             1                       1   \n",
       "\n",
       "      Previous qualification (grade)  Nacionality  Mother's qualification  \\\n",
       "3549                           127.0            1                       2   \n",
       "4029                           130.0            1                       3   \n",
       "2647                           130.0            1                      38   \n",
       "3493                           130.0            1                      37   \n",
       "2006                           146.0            1                      37   \n",
       "1510                           127.0            1                       1   \n",
       "818                            132.0            1                      19   \n",
       "1085                           127.0            1                       3   \n",
       "4350                           140.0            1                       3   \n",
       "2304                           133.1            1                       1   \n",
       "\n",
       "      Father's qualification  ...  Curricular units 2nd sem (credited)  \\\n",
       "3549                      19  ...                                    0   \n",
       "4029                      19  ...                                    0   \n",
       "2647                      38  ...                                    0   \n",
       "3493                      37  ...                                    0   \n",
       "2006                      37  ...                                    0   \n",
       "1510                       1  ...                                    0   \n",
       "818                       37  ...                                    0   \n",
       "1085                       1  ...                                    0   \n",
       "4350                       1  ...                                    1   \n",
       "2304                      19  ...                                    0   \n",
       "\n",
       "      Curricular units 2nd sem (enrolled)  \\\n",
       "3549                                    7   \n",
       "4029                                    7   \n",
       "2647                                    6   \n",
       "3493                                    5   \n",
       "2006                                    6   \n",
       "1510                                    6   \n",
       "818                                     8   \n",
       "1085                                    6   \n",
       "4350                                    6   \n",
       "2304                                    5   \n",
       "\n",
       "      Curricular units 2nd sem (evaluations)  \\\n",
       "3549                                       7   \n",
       "4029                                       7   \n",
       "2647                                      15   \n",
       "3493                                       5   \n",
       "2006                                       6   \n",
       "1510                                       0   \n",
       "818                                       10   \n",
       "1085                                       0   \n",
       "4350                                      17   \n",
       "2304                                       5   \n",
       "\n",
       "      Curricular units 2nd sem (approved)  Curricular units 2nd sem (grade)  \\\n",
       "3549                                    6                         13.483333   \n",
       "4029                                    0                          0.000000   \n",
       "2647                                    2                         12.000000   \n",
       "3493                                    0                          0.000000   \n",
       "2006                                    6                         14.166667   \n",
       "1510                                    0                          0.000000   \n",
       "818                                     7                         13.164286   \n",
       "1085                                    0                          0.000000   \n",
       "4350                                    5                         11.857143   \n",
       "2304                                    0                          0.000000   \n",
       "\n",
       "      Curricular units 2nd sem (without evaluations)  Unemployment rate  \\\n",
       "3549                                               0                7.6   \n",
       "4029                                               0               16.2   \n",
       "2647                                               0               16.2   \n",
       "3493                                               0               12.7   \n",
       "2006                                               0               10.8   \n",
       "1510                                               0               12.4   \n",
       "818                                                0               11.1   \n",
       "1085                                               0               15.5   \n",
       "4350                                               0               12.4   \n",
       "2304                                               0               11.1   \n",
       "\n",
       "      Inflation rate   GDP    Target  \n",
       "3549             2.6  0.32  Graduate  \n",
       "4029             0.3 -0.92   Dropout  \n",
       "2647             0.3 -0.92   Dropout  \n",
       "3493             3.7 -1.70   Dropout  \n",
       "2006             1.4  1.74  Graduate  \n",
       "1510             0.5  1.79   Dropout  \n",
       "818              0.6  2.02  Enrolled  \n",
       "1085             2.8 -4.06   Dropout  \n",
       "4350             0.5  1.79  Graduate  \n",
       "2304             0.6  2.02   Dropout  \n",
       "\n",
       "[10 rows x 37 columns]"
      ]
     },
     "execution_count": 4,
     "metadata": {},
     "output_type": "execute_result"
    }
   ],
   "source": [
    "dataset = 'C:/Users/Fahrizal Dwi Rinaldi/Downloads/Semester 5/Data Mining/ALP/data.csv'\n",
    "df = pd.read_csv(dataset, sep=';')\n",
    "df.sample(n=10)"
   ]
  },
  {
   "cell_type": "markdown",
   "metadata": {},
   "source": [
    "### Data Preparation and Cleaning  "
   ]
  },
  {
   "cell_type": "code",
   "execution_count": 5,
   "metadata": {},
   "outputs": [
    {
     "data": {
      "text/plain": [
       "0"
      ]
     },
     "execution_count": 5,
     "metadata": {},
     "output_type": "execute_result"
    }
   ],
   "source": [
    "cekDUplikat = df.duplicated().sum()\n",
    "cekDUplikat"
   ]
  },
  {
   "cell_type": "code",
   "execution_count": 6,
   "metadata": {},
   "outputs": [
    {
     "name": "stdout",
     "output_type": "stream",
     "text": [
      "<class 'pandas.core.frame.DataFrame'>\n",
      "RangeIndex: 4424 entries, 0 to 4423\n",
      "Data columns (total 37 columns):\n",
      " #   Column                                          Non-Null Count  Dtype  \n",
      "---  ------                                          --------------  -----  \n",
      " 0   Marital status                                  4424 non-null   int64  \n",
      " 1   Application mode                                4424 non-null   int64  \n",
      " 2   Application order                               4424 non-null   int64  \n",
      " 3   Course                                          4424 non-null   int64  \n",
      " 4   Daytime/evening attendance\t                     4424 non-null   int64  \n",
      " 5   Previous qualification                          4424 non-null   int64  \n",
      " 6   Previous qualification (grade)                  4424 non-null   float64\n",
      " 7   Nacionality                                     4424 non-null   int64  \n",
      " 8   Mother's qualification                          4424 non-null   int64  \n",
      " 9   Father's qualification                          4424 non-null   int64  \n",
      " 10  Mother's occupation                             4424 non-null   int64  \n",
      " 11  Father's occupation                             4424 non-null   int64  \n",
      " 12  Admission grade                                 4424 non-null   float64\n",
      " 13  Displaced                                       4424 non-null   int64  \n",
      " 14  Educational special needs                       4424 non-null   int64  \n",
      " 15  Debtor                                          4424 non-null   int64  \n",
      " 16  Tuition fees up to date                         4424 non-null   int64  \n",
      " 17  Gender                                          4424 non-null   int64  \n",
      " 18  Scholarship holder                              4424 non-null   int64  \n",
      " 19  Age at enrollment                               4424 non-null   int64  \n",
      " 20  International                                   4424 non-null   int64  \n",
      " 21  Curricular units 1st sem (credited)             4424 non-null   int64  \n",
      " 22  Curricular units 1st sem (enrolled)             4424 non-null   int64  \n",
      " 23  Curricular units 1st sem (evaluations)          4424 non-null   int64  \n",
      " 24  Curricular units 1st sem (approved)             4424 non-null   int64  \n",
      " 25  Curricular units 1st sem (grade)                4424 non-null   float64\n",
      " 26  Curricular units 1st sem (without evaluations)  4424 non-null   int64  \n",
      " 27  Curricular units 2nd sem (credited)             4424 non-null   int64  \n",
      " 28  Curricular units 2nd sem (enrolled)             4424 non-null   int64  \n",
      " 29  Curricular units 2nd sem (evaluations)          4424 non-null   int64  \n",
      " 30  Curricular units 2nd sem (approved)             4424 non-null   int64  \n",
      " 31  Curricular units 2nd sem (grade)                4424 non-null   float64\n",
      " 32  Curricular units 2nd sem (without evaluations)  4424 non-null   int64  \n",
      " 33  Unemployment rate                               4424 non-null   float64\n",
      " 34  Inflation rate                                  4424 non-null   float64\n",
      " 35  GDP                                             4424 non-null   float64\n",
      " 36  Target                                          4424 non-null   object \n",
      "dtypes: float64(7), int64(29), object(1)\n",
      "memory usage: 1.2+ MB\n"
     ]
    }
   ],
   "source": [
    "df.info()"
   ]
  },
  {
   "cell_type": "code",
   "execution_count": 7,
   "metadata": {},
   "outputs": [
    {
     "data": {
      "text/plain": [
       "Marital status                                    0\n",
       "Application mode                                  0\n",
       "Application order                                 0\n",
       "Course                                            0\n",
       "Daytime/evening attendance\\t                      0\n",
       "Previous qualification                            0\n",
       "Previous qualification (grade)                    0\n",
       "Nacionality                                       0\n",
       "Mother's qualification                            0\n",
       "Father's qualification                            0\n",
       "Mother's occupation                               0\n",
       "Father's occupation                               0\n",
       "Admission grade                                   0\n",
       "Displaced                                         0\n",
       "Educational special needs                         0\n",
       "Debtor                                            0\n",
       "Tuition fees up to date                           0\n",
       "Gender                                            0\n",
       "Scholarship holder                                0\n",
       "Age at enrollment                                 0\n",
       "International                                     0\n",
       "Curricular units 1st sem (credited)               0\n",
       "Curricular units 1st sem (enrolled)               0\n",
       "Curricular units 1st sem (evaluations)            0\n",
       "Curricular units 1st sem (approved)               0\n",
       "Curricular units 1st sem (grade)                  0\n",
       "Curricular units 1st sem (without evaluations)    0\n",
       "Curricular units 2nd sem (credited)               0\n",
       "Curricular units 2nd sem (enrolled)               0\n",
       "Curricular units 2nd sem (evaluations)            0\n",
       "Curricular units 2nd sem (approved)               0\n",
       "Curricular units 2nd sem (grade)                  0\n",
       "Curricular units 2nd sem (without evaluations)    0\n",
       "Unemployment rate                                 0\n",
       "Inflation rate                                    0\n",
       "GDP                                               0\n",
       "Target                                            0\n",
       "dtype: int64"
      ]
     },
     "execution_count": 7,
     "metadata": {},
     "output_type": "execute_result"
    }
   ],
   "source": [
    "df.isna().sum()"
   ]
  },
  {
   "cell_type": "code",
   "execution_count": 8,
   "metadata": {},
   "outputs": [
    {
     "data": {
      "text/html": [
       "<div>\n",
       "<style scoped>\n",
       "    .dataframe tbody tr th:only-of-type {\n",
       "        vertical-align: middle;\n",
       "    }\n",
       "\n",
       "    .dataframe tbody tr th {\n",
       "        vertical-align: top;\n",
       "    }\n",
       "\n",
       "    .dataframe thead th {\n",
       "        text-align: right;\n",
       "    }\n",
       "</style>\n",
       "<table border=\"1\" class=\"dataframe\">\n",
       "  <thead>\n",
       "    <tr style=\"text-align: right;\">\n",
       "      <th></th>\n",
       "      <th>Marital status</th>\n",
       "      <th>Previous qualification</th>\n",
       "      <th>Nationality</th>\n",
       "      <th>Admission grade</th>\n",
       "      <th>Gender</th>\n",
       "      <th>Scholarship holder</th>\n",
       "      <th>Age at enrollment</th>\n",
       "      <th>International</th>\n",
       "      <th>Curricular units 1st sem (credited)</th>\n",
       "      <th>Curricular units 1st sem (enrolled)</th>\n",
       "      <th>...</th>\n",
       "      <th>Curricular units 2nd sem (credited)</th>\n",
       "      <th>Curricular units 2nd sem (enrolled)</th>\n",
       "      <th>Curricular units 2nd sem (evaluations)</th>\n",
       "      <th>Curricular units 2nd sem (approved)</th>\n",
       "      <th>Curricular units 2nd sem (grade)</th>\n",
       "      <th>Curricular units 2nd sem (without evaluations)</th>\n",
       "      <th>Unemployment rate</th>\n",
       "      <th>Inflation rate</th>\n",
       "      <th>GDP</th>\n",
       "      <th>Target</th>\n",
       "    </tr>\n",
       "  </thead>\n",
       "  <tbody>\n",
       "    <tr>\n",
       "      <th>0</th>\n",
       "      <td>1</td>\n",
       "      <td>1</td>\n",
       "      <td>1</td>\n",
       "      <td>127.3</td>\n",
       "      <td>1</td>\n",
       "      <td>0</td>\n",
       "      <td>20</td>\n",
       "      <td>0</td>\n",
       "      <td>0</td>\n",
       "      <td>0</td>\n",
       "      <td>...</td>\n",
       "      <td>0</td>\n",
       "      <td>0</td>\n",
       "      <td>0</td>\n",
       "      <td>0</td>\n",
       "      <td>0.000000</td>\n",
       "      <td>0</td>\n",
       "      <td>10.8</td>\n",
       "      <td>1.4</td>\n",
       "      <td>1.74</td>\n",
       "      <td>0</td>\n",
       "    </tr>\n",
       "    <tr>\n",
       "      <th>1</th>\n",
       "      <td>1</td>\n",
       "      <td>1</td>\n",
       "      <td>1</td>\n",
       "      <td>142.5</td>\n",
       "      <td>1</td>\n",
       "      <td>0</td>\n",
       "      <td>19</td>\n",
       "      <td>0</td>\n",
       "      <td>0</td>\n",
       "      <td>6</td>\n",
       "      <td>...</td>\n",
       "      <td>0</td>\n",
       "      <td>6</td>\n",
       "      <td>6</td>\n",
       "      <td>6</td>\n",
       "      <td>13.666667</td>\n",
       "      <td>0</td>\n",
       "      <td>13.9</td>\n",
       "      <td>-0.3</td>\n",
       "      <td>0.79</td>\n",
       "      <td>2</td>\n",
       "    </tr>\n",
       "    <tr>\n",
       "      <th>2</th>\n",
       "      <td>1</td>\n",
       "      <td>1</td>\n",
       "      <td>1</td>\n",
       "      <td>124.8</td>\n",
       "      <td>1</td>\n",
       "      <td>0</td>\n",
       "      <td>19</td>\n",
       "      <td>0</td>\n",
       "      <td>0</td>\n",
       "      <td>6</td>\n",
       "      <td>...</td>\n",
       "      <td>0</td>\n",
       "      <td>6</td>\n",
       "      <td>0</td>\n",
       "      <td>0</td>\n",
       "      <td>0.000000</td>\n",
       "      <td>0</td>\n",
       "      <td>10.8</td>\n",
       "      <td>1.4</td>\n",
       "      <td>1.74</td>\n",
       "      <td>0</td>\n",
       "    </tr>\n",
       "    <tr>\n",
       "      <th>3</th>\n",
       "      <td>1</td>\n",
       "      <td>1</td>\n",
       "      <td>1</td>\n",
       "      <td>119.6</td>\n",
       "      <td>0</td>\n",
       "      <td>0</td>\n",
       "      <td>20</td>\n",
       "      <td>0</td>\n",
       "      <td>0</td>\n",
       "      <td>6</td>\n",
       "      <td>...</td>\n",
       "      <td>0</td>\n",
       "      <td>6</td>\n",
       "      <td>10</td>\n",
       "      <td>5</td>\n",
       "      <td>12.400000</td>\n",
       "      <td>0</td>\n",
       "      <td>9.4</td>\n",
       "      <td>-0.8</td>\n",
       "      <td>-3.12</td>\n",
       "      <td>2</td>\n",
       "    </tr>\n",
       "    <tr>\n",
       "      <th>4</th>\n",
       "      <td>2</td>\n",
       "      <td>1</td>\n",
       "      <td>1</td>\n",
       "      <td>141.5</td>\n",
       "      <td>0</td>\n",
       "      <td>0</td>\n",
       "      <td>45</td>\n",
       "      <td>0</td>\n",
       "      <td>0</td>\n",
       "      <td>6</td>\n",
       "      <td>...</td>\n",
       "      <td>0</td>\n",
       "      <td>6</td>\n",
       "      <td>6</td>\n",
       "      <td>6</td>\n",
       "      <td>13.000000</td>\n",
       "      <td>0</td>\n",
       "      <td>13.9</td>\n",
       "      <td>-0.3</td>\n",
       "      <td>0.79</td>\n",
       "      <td>2</td>\n",
       "    </tr>\n",
       "  </tbody>\n",
       "</table>\n",
       "<p>5 rows × 24 columns</p>\n",
       "</div>"
      ],
      "text/plain": [
       "   Marital status  Previous qualification  Nationality  Admission grade  \\\n",
       "0               1                       1            1            127.3   \n",
       "1               1                       1            1            142.5   \n",
       "2               1                       1            1            124.8   \n",
       "3               1                       1            1            119.6   \n",
       "4               2                       1            1            141.5   \n",
       "\n",
       "   Gender  Scholarship holder  Age at enrollment  International  \\\n",
       "0       1                   0                 20              0   \n",
       "1       1                   0                 19              0   \n",
       "2       1                   0                 19              0   \n",
       "3       0                   0                 20              0   \n",
       "4       0                   0                 45              0   \n",
       "\n",
       "   Curricular units 1st sem (credited)  Curricular units 1st sem (enrolled)  \\\n",
       "0                                    0                                    0   \n",
       "1                                    0                                    6   \n",
       "2                                    0                                    6   \n",
       "3                                    0                                    6   \n",
       "4                                    0                                    6   \n",
       "\n",
       "   ...  Curricular units 2nd sem (credited)  \\\n",
       "0  ...                                    0   \n",
       "1  ...                                    0   \n",
       "2  ...                                    0   \n",
       "3  ...                                    0   \n",
       "4  ...                                    0   \n",
       "\n",
       "   Curricular units 2nd sem (enrolled)  \\\n",
       "0                                    0   \n",
       "1                                    6   \n",
       "2                                    6   \n",
       "3                                    6   \n",
       "4                                    6   \n",
       "\n",
       "   Curricular units 2nd sem (evaluations)  \\\n",
       "0                                       0   \n",
       "1                                       6   \n",
       "2                                       0   \n",
       "3                                      10   \n",
       "4                                       6   \n",
       "\n",
       "   Curricular units 2nd sem (approved)  Curricular units 2nd sem (grade)  \\\n",
       "0                                    0                          0.000000   \n",
       "1                                    6                         13.666667   \n",
       "2                                    0                          0.000000   \n",
       "3                                    5                         12.400000   \n",
       "4                                    6                         13.000000   \n",
       "\n",
       "   Curricular units 2nd sem (without evaluations)  Unemployment rate  \\\n",
       "0                                               0               10.8   \n",
       "1                                               0               13.9   \n",
       "2                                               0               10.8   \n",
       "3                                               0                9.4   \n",
       "4                                               0               13.9   \n",
       "\n",
       "   Inflation rate   GDP  Target  \n",
       "0             1.4  1.74       0  \n",
       "1            -0.3  0.79       2  \n",
       "2             1.4  1.74       0  \n",
       "3            -0.8 -3.12       2  \n",
       "4            -0.3  0.79       2  \n",
       "\n",
       "[5 rows x 24 columns]"
      ]
     },
     "execution_count": 8,
     "metadata": {},
     "output_type": "execute_result"
    }
   ],
   "source": [
    "df = df.drop(['Application mode', 'Application order', 'Course', 'Daytime/evening attendance\\t', 'Previous qualification (grade)', \"Mother's qualification\", \"Father's qualification\", \"Mother's occupation\", \"Father's occupation\", 'Displaced', 'Educational special needs', 'Debtor', 'Tuition fees up to date' ], axis=1)\n",
    "df = df.rename(columns={\"Nacionality\": \"Nationality\"})\n",
    "df['Target'] = LabelEncoder().fit_transform(df['Target'])\n",
    "\n",
    "df.head()"
   ]
  },
  {
   "cell_type": "markdown",
   "metadata": {},
   "source": [
    "### EDA"
   ]
  },
  {
   "cell_type": "code",
   "execution_count": 9,
   "metadata": {},
   "outputs": [
    {
     "data": {
      "image/png": "[encoded data removed]",
      "text/plain": [
       "<Figure size 1080x432 with 2 Axes>"
      ]
     },
     "metadata": {
      "needs_background": "light"
     },
     "output_type": "display_data"
    }
   ],
   "source": [
    "plt.figure(figsize=(15, 6))\n",
    "plt.subplot(1, 2, 1)\n",
    "sns.histplot(df['Unemployment rate'], bins=20, kde=True)\n",
    "plt.title('Distribution of Unemployment Rate')\n",
    "\n",
    "plt.subplot(1, 2, 2)\n",
    "sns.histplot(df['Gender'], bins=20, kde=True)\n",
    "plt.title('Distribution of Gender')\n",
    "\n",
    "plt.show()"
   ]
  },
  {
   "cell_type": "code",
   "execution_count": 10,
   "metadata": {},
   "outputs": [
    {
     "data": {
      "image/png": "[encoded data removed]",
      "text/plain": [
       "<Figure size 720x432 with 1 Axes>"
      ]
     },
     "metadata": {
      "needs_background": "light"
     },
     "output_type": "display_data"
    }
   ],
   "source": [
    "plt.figure(figsize=(10, 6))\n",
    "sns.histplot(data=df, x='Unemployment rate', hue='Gender', multiple=\"stack\", bins=20, kde=True)\n",
    "plt.title('Comparison of Unemployment rate by Gender')\n",
    "plt.xlabel('Unemployment rate')\n",
    "plt.ylabel('Count')\n",
    "plt.show()"
   ]
  },
  {
   "cell_type": "code",
   "execution_count": 11,
   "metadata": {},
   "outputs": [],
   "source": [
    "dfscaled = StandardScaler().fit_transform(df)\n"
   ]
  },
  {
   "cell_type": "markdown",
   "metadata": {},
   "source": [
    "### K-Means Clustering"
   ]
  },
  {
   "cell_type": "code",
   "execution_count": 12,
   "metadata": {},
   "outputs": [
    {
     "data": {
      "image/png": "[encoded data removed]",
      "text/plain": [
       "<Figure size 432x288 with 1 Axes>"
      ]
     },
     "metadata": {
      "needs_background": "light"
     },
     "output_type": "display_data"
    }
   ],
   "source": [
    "kmeans_params = { \"init\": \"random\", \"n_init\": 10,\"max_iter\": 300,\n",
    "                 \"random_state\": 42,}\n",
    "\n",
    "SSE = []\n",
    "for k in range(1, 11):\n",
    "    kmeans = KMeans(n_clusters=k, **kmeans_params)\n",
    "    kmeans.fit(dfscaled)\n",
    "    SSE.append(kmeans.inertia_)\n",
    "\n",
    "plt.plot(range(1, 11), SSE)\n",
    "plt.xticks(range(1, 11))\n",
    "plt.xlabel(\"Number of Clusters\")\n",
    "plt.ylabel(\"SSE\")\n",
    "plt.show()"
   ]
  },
  {
   "cell_type": "code",
   "execution_count": 13,
   "metadata": {},
   "outputs": [
    {
     "name": "stdout",
     "output_type": "stream",
     "text": [
      "the best k for your model is  4\n"
     ]
    }
   ],
   "source": [
    "from kneed import KneeLocator\n",
    "findknee = KneeLocator(range(1, 11), SSE, curve=\"convex\", direction=\"decreasing\")\n",
    "print('the best k for your model is ', findknee.elbow)"
   ]
  },
  {
   "cell_type": "code",
   "execution_count": 14,
   "metadata": {},
   "outputs": [],
   "source": [
    "kmeans = KMeans(n_init=3 , n_clusters=4, max_iter=300, random_state=42)\n",
    "ykmeans= kmeans.fit_predict(dfscaled)\n",
    "df['K-Means']= ykmeans"
   ]
  },
  {
   "cell_type": "markdown",
   "metadata": {},
   "source": [
    "### Hierarchical Clustering"
   ]
  },
  {
   "cell_type": "code",
   "execution_count": 15,
   "metadata": {},
   "outputs": [
    {
     "data": {
      "image/png": "[encoded data removed]",
      "text/plain": [
       "<Figure size 720x576 with 1 Axes>"
      ]
     },
     "metadata": {
      "needs_background": "light"
     },
     "output_type": "display_data"
    }
   ],
   "source": [
    "import matplotlib.pyplot as plt\n",
    "from scipy.cluster.hierarchy import dendrogram, linkage\n",
    "\n",
    "data_for_dendrogram = df.drop('K-Means', axis=1) \n",
    "\n",
    "linkage_matrix = linkage(data_for_dendrogram, method='ward', metric='euclidean')\n",
    "\n",
    "plt.figure(figsize=(10, 8))\n",
    "dendrogram(linkage_matrix, orientation='top', p=30, truncate_mode='level', show_leaf_counts=True)\n",
    "plt.title('Dendrogram dengan Metode Max')\n",
    "plt.xlabel('Data Points')\n",
    "plt.ylabel('Jarak')\n",
    "plt.show()"
   ]
  },
  {
   "cell_type": "markdown",
   "metadata": {},
   "source": [
    "### Prediction Model: Logistic Regression"
   ]
  },
  {
   "cell_type": "code",
   "execution_count": 16,
   "metadata": {},
   "outputs": [],
   "source": [
    "X = df.drop(\"Target\", axis=1)\n",
    "y = df[\"Target\"]"
   ]
  },
  {
   "cell_type": "code",
   "execution_count": 17,
   "metadata": {},
   "outputs": [],
   "source": [
    "X_train, X_test, y_train, y_test = train_test_split(X, y, test_size = 0.1, random_state = 0)"
   ]
  },
  {
   "cell_type": "code",
   "execution_count": 18,
   "metadata": {},
   "outputs": [],
   "source": [
    "scaler = StandardScaler()\n",
    "\n",
    "X_train_scaled = scaler.fit_transform(X_train)\n",
    "\n",
    "X_test_scaled = scaler.transform(X_test)"
   ]
  },
  {
   "cell_type": "code",
   "execution_count": 19,
   "metadata": {},
   "outputs": [
    {
     "data": {
      "text/plain": [
       "LogisticRegression(random_state=0)"
      ]
     },
     "execution_count": 19,
     "metadata": {},
     "output_type": "execute_result"
    }
   ],
   "source": [
    "Logreg = LogisticRegression(random_state=0)\n",
    "Logreg.fit(X_train_scaled, y_train)"
   ]
  },
  {
   "cell_type": "code",
   "execution_count": 20,
   "metadata": {},
   "outputs": [
    {
     "name": "stdout",
     "output_type": "stream",
     "text": [
      "[2 0 2 2 1 0 2 2 0 2 0 0 1 2 0 2 1 0 2 1 0 2 2 2 2 0 0 0 2 2 0 0 2 2 2 2 2\n",
      " 2 0 0 2 0 2 2 2 1 1 2 2 2 0 0 1 0 2 0 2 2 0 2 2 1 2 1 0 2 0 2 2 0 0 2 0 0\n",
      " 0 2 1 0 2 2 2 1 2 2 0 2 0 0 0 2 2 2 0 1 0 0 2 2 2 0 2 2 2 2 2 0 1 0 1 0 2\n",
      " 1 0 2 2 0 2 2 0 2 0 2 0 0 2 0 2 0 0 2 2 2 0 2 2 2 0 2 0 0 2 1 0 0 2 2 2 0\n",
      " 0 2 0 0 0 0 2 0 0 1 2 0 2 0 0 0 0 2 2 0 1 0 1 0 2 2 0 2 0 1 1 2 1 0 0 2 2\n",
      " 2 1 0 0 2 1 1 2 2 1 2 1 2 0 2 1 0 2 2 0 2 2 2 0 0 2 2 0 2 1 1 2 2 1 2 2 2\n",
      " 2 2 0 2 1 2 2 1 2 2 1 0 2 2 2 1 2 2 2 2 1 1 2 2 2 2 0 2 2 0 2 2 2 0 2 2 2\n",
      " 2 2 2 0 2 0 2 2 2 0 1 2 2 2 2 0 2 2 1 0 2 0 2 2 2 2 0 2 2 2 1 1 0 1 2 0 2\n",
      " 0 0 2 0 0 2 0 2 2 0 2 0 0 2 0 0 2 2 2 2 2 0 2 2 0 0 0 2 2 1 0 2 2 0 0 2 0\n",
      " 2 0 0 0 2 2 0 1 2 2 0 2 0 2 2 0 2 1 2 2 0 2 1 2 2 0 2 2 2 2 0 2 2 2 2 2 2\n",
      " 2 0 0 0 1 2 2 2 2 1 2 2 1 2 0 2 0 0 2 2 2 0 2 2 2 0 0 0 2 2 1 2 2 0 2 2 2\n",
      " 2 2 2 2 0 0 2 1 0 2 2 2 0 2 0 2 2 0 0 0 2 2 2 0 2 0 0 2 0 2 2 0 1 2 2 2]\n"
     ]
    }
   ],
   "source": [
    "ypred = Logreg.predict(X_test_scaled)\n",
    "print(ypred)"
   ]
  },
  {
   "cell_type": "code",
   "execution_count": 21,
   "metadata": {},
   "outputs": [
    {
     "name": "stdout",
     "output_type": "stream",
     "text": [
      "Confusion Matrix \n",
      " [[120  12  13]\n",
      " [ 20  31  26]\n",
      " [  9   9 203]]\n",
      "Accuracy Score:  0.7990970654627539\n"
     ]
    }
   ],
   "source": [
    "ConMat = confusion_matrix(y_test,ypred)\n",
    "print(\"Confusion Matrix \\n\", ConMat)\n",
    "\n",
    "accuracy = accuracy_score(y_test,ypred)\n",
    "print(\"Accuracy Score: \", accuracy)"
   ]
  },
  {
   "cell_type": "markdown",
   "metadata": {},
   "source": [
    "### Prediction Model: KNN"
   ]
  },
  {
   "cell_type": "code",
   "execution_count": 22,
   "metadata": {},
   "outputs": [
    {
     "data": {
      "text/plain": [
       "KNeighborsClassifier(metric='euclidean')"
      ]
     },
     "execution_count": 22,
     "metadata": {},
     "output_type": "execute_result"
    }
   ],
   "source": [
    "modelKNN = KNeighborsClassifier(n_neighbors=5, metric='euclidean')\n",
    "modelKNN.fit(X_train_scaled, y_train)"
   ]
  },
  {
   "cell_type": "code",
   "execution_count": 23,
   "metadata": {},
   "outputs": [
    {
     "name": "stdout",
     "output_type": "stream",
     "text": [
      "[2 0 2 2 1 1 2 2 0 2 1 0 1 0 0 2 1 0 2 0 0 2 2 1 2 1 2 0 2 2 0 0 2 2 0 2 2\n",
      " 2 1 0 2 0 2 2 2 0 0 2 2 2 0 0 1 0 2 0 2 2 0 1 2 0 1 1 0 2 1 2 2 0 0 2 1 0\n",
      " 2 2 1 2 2 2 2 1 1 2 0 1 0 0 0 2 0 1 0 1 0 0 1 2 2 0 2 2 2 2 1 0 2 0 2 0 2\n",
      " 2 0 0 1 0 2 2 0 2 0 2 0 0 2 0 2 0 0 2 0 2 0 2 2 2 0 2 2 0 2 1 1 1 2 2 2 0\n",
      " 0 2 0 0 2 0 0 0 0 1 2 0 2 0 0 0 0 2 2 1 1 0 2 0 2 1 0 1 0 1 0 2 0 0 0 2 0\n",
      " 2 1 0 2 2 0 2 2 2 0 2 1 2 0 0 0 2 2 2 0 2 2 2 1 2 2 2 0 2 1 1 2 2 0 2 2 0\n",
      " 2 2 0 2 1 2 0 1 2 2 1 0 2 0 2 2 2 2 2 2 1 1 2 2 2 2 2 2 2 0 2 2 2 0 2 2 2\n",
      " 2 2 2 0 2 0 2 2 2 0 0 2 1 2 1 0 2 2 0 0 2 0 1 1 2 2 2 2 2 1 2 2 0 2 2 0 2\n",
      " 1 0 2 0 0 2 0 2 1 0 2 0 0 2 0 0 1 2 2 2 1 1 2 2 0 0 0 0 2 2 1 2 2 0 0 2 0\n",
      " 1 0 0 0 2 2 0 0 2 2 0 2 0 2 2 0 2 0 1 1 0 1 1 2 2 0 2 2 2 1 1 2 2 2 2 1 1\n",
      " 2 0 1 0 1 1 2 2 2 0 2 2 0 2 0 1 0 0 2 0 2 1 2 2 2 0 0 0 2 1 2 2 2 0 2 2 2\n",
      " 2 1 2 2 0 2 2 2 0 1 2 2 0 2 0 2 2 0 0 0 2 2 2 0 2 1 0 2 0 2 2 0 1 2 2 2]\n"
     ]
    }
   ],
   "source": [
    "ypredKNN = modelKNN.predict(X_test_scaled)\n",
    "print(ypredKNN)"
   ]
  },
  {
   "cell_type": "code",
   "execution_count": 24,
   "metadata": {},
   "outputs": [
    {
     "name": "stdout",
     "output_type": "stream",
     "text": [
      "Confusion Matrix \n",
      " [[110  14  21]\n",
      " [ 25  31  21]\n",
      " [ 15  27 179]]\n",
      "Accuracy Score:  0.7223476297968398\n"
     ]
    }
   ],
   "source": [
    "ConMat = confusion_matrix(y_test,ypredKNN)\n",
    "print(\"Confusion Matrix \\n\", ConMat)\n",
    "\n",
    "accuracy = accuracy_score(y_test,ypredKNN)\n",
    "print(\"Accuracy Score: \", accuracy)"
   ]
  },
  {
   "cell_type": "markdown",
   "metadata": {},
   "source": [
    "### Prediction Model: Naive Bayes"
   ]
  },
  {
   "cell_type": "code",
   "execution_count": 25,
   "metadata": {},
   "outputs": [
    {
     "data": {
      "text/plain": [
       "GaussianNB()"
      ]
     },
     "execution_count": 25,
     "metadata": {},
     "output_type": "execute_result"
    }
   ],
   "source": [
    "modelNB = GaussianNB()\n",
    "modelNB.fit(X_train_scaled, y_train)"
   ]
  },
  {
   "cell_type": "code",
   "execution_count": 26,
   "metadata": {},
   "outputs": [
    {
     "name": "stdout",
     "output_type": "stream",
     "text": [
      "[2 0 2 2 1 0 0 2 2 2 2 0 2 2 1 2 1 0 2 1 0 2 2 2 2 1 0 0 2 2 1 2 2 2 1 2 2\n",
      " 2 0 0 2 0 2 2 2 1 1 2 1 2 0 0 1 0 2 1 2 2 0 2 2 1 1 1 1 2 1 2 2 0 0 2 1 2\n",
      " 1 2 1 0 2 2 2 1 2 2 0 2 0 1 0 2 0 2 1 1 1 0 2 2 2 0 2 2 2 2 2 0 1 0 2 0 2\n",
      " 2 0 0 2 0 2 2 0 1 1 2 0 0 2 0 2 0 0 2 2 2 0 1 2 2 0 2 0 0 2 1 1 1 2 2 2 0\n",
      " 0 2 0 0 2 0 2 0 0 1 2 2 2 0 2 1 0 1 2 2 1 0 1 1 1 2 0 2 0 2 1 2 2 0 0 2 2\n",
      " 2 2 0 0 2 2 2 2 1 1 2 1 2 2 1 1 0 1 2 0 2 2 0 1 1 2 2 0 2 1 1 0 2 1 2 2 2\n",
      " 2 2 0 2 2 2 1 1 2 2 1 0 2 2 2 1 2 2 0 2 1 1 2 2 2 1 1 2 2 0 2 2 1 0 2 2 2\n",
      " 2 2 2 0 2 0 2 2 2 0 1 2 2 2 2 0 2 0 0 1 2 0 2 2 2 2 2 1 0 2 2 1 0 1 2 0 2\n",
      " 1 0 2 0 0 2 0 2 1 0 2 1 0 2 0 0 2 2 2 2 1 0 2 0 1 0 0 1 2 1 1 2 2 0 0 2 0\n",
      " 2 0 0 0 1 2 0 1 0 2 0 2 0 2 2 0 1 1 2 2 0 2 1 2 2 0 2 2 2 1 1 2 2 2 1 2 2\n",
      " 2 0 1 0 1 2 0 2 1 0 1 2 1 2 0 2 0 2 2 1 2 0 2 2 2 0 2 0 2 2 2 2 1 1 2 2 2\n",
      " 2 2 1 2 0 1 2 2 2 2 2 2 1 2 0 2 2 0 0 0 2 1 0 0 2 2 0 2 0 2 2 0 1 2 2 2]\n"
     ]
    }
   ],
   "source": [
    "ypredNB = modelNB.predict(X_test_scaled)\n",
    "print(ypredNB)"
   ]
  },
  {
   "cell_type": "code",
   "execution_count": 27,
   "metadata": {},
   "outputs": [
    {
     "name": "stdout",
     "output_type": "stream",
     "text": [
      "Confusion Matrix \n",
      " [[ 93  28  24]\n",
      " [ 11  41  25]\n",
      " [ 16  25 180]]\n",
      "Accuracy Score:  0.708803611738149\n"
     ]
    }
   ],
   "source": [
    "ConMat = confusion_matrix(y_test,ypredNB)\n",
    "print(\"Confusion Matrix \\n\", ConMat)\n",
    "\n",
    "accuracy = accuracy_score(y_test,ypredNB)\n",
    "print(\"Accuracy Score: \", accuracy)"
   ]
  },
  {
   "cell_type": "markdown",
   "metadata": {},
   "source": [
    "Dari ketiga model prediksi, Logistic Regression memiliki tingkat akurasi paling tinggi diantara KNN dan Naive Bayes."
   ]
  }
 ],
 "metadata": {
  "kernelspec": {
   "display_name": "base",
   "language": "python",
   "name": "python3"
  },
  "language_info": {
   "codemirror_mode": {
    "name": "ipython",
    "version": 3
   },
   "file_extension": ".py",
   "mimetype": "text/x-python",
   "name": "python",
   "nbconvert_exporter": "python",
   "pygments_lexer": "ipython3",
   "version": "3.9.12"
  }
 },
 "nbformat": 4,
 "nbformat_minor": 2
}
